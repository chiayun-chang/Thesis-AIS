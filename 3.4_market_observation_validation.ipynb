{
 "cells": [
  {
   "cell_type": "code",
   "execution_count": null,
   "metadata": {},
   "outputs": [],
   "source": [
    "%matplotlib inline"
   ]
  },
  {
   "cell_type": "code",
   "execution_count": null,
   "metadata": {
    "scrolled": true
   },
   "outputs": [],
   "source": [
    "import urllib\n",
    "import os\n",
    "import numpy as np\n",
    "import pandas as pd\n",
    "import geopandas as gpd\n",
    "from geopandas import GeoDataFrame, read_file\n",
    "from shapely.geometry import Point, LineString, Polygon\n",
    "from datetime import datetime, timedelta\n",
    "import matplotlib.pyplot as plt\n",
    "from geoviews.tile_sources import OSM\n",
    "import plotly_express as px\n",
    "import plotly.graph_objects as go\n",
    "from plotly.subplots import make_subplots\n",
    "import sys"
   ]
  },
  {
   "cell_type": "code",
   "execution_count": null,
   "metadata": {},
   "outputs": [],
   "source": [
    "px.set_mapbox_access_token('pk.eyJ1IjoiY2hpYXl1bmMiLCJhIjoiY2tobmN0eHNmMGJrdzJ5azZzNXdkeW01MiJ9.kA4IeOqT59mi3vf7JE1_4w')"
   ]
  },
  {
   "cell_type": "code",
   "execution_count": null,
   "metadata": {},
   "outputs": [],
   "source": [
    "# For opening local files\n",
    "import pathlib\n",
    "\n",
    "# Test connection\n",
    "# Make sure you have pip  install  azure-storage-blob==2.1.0 installed\n",
    "# Do not install 12.1. this is not compatible yet with adlfs\n",
    "# See https://github.com/dask/adlfs/issues/15\n",
    "import azure.storage.blob\n",
    "\n",
    "# this module loads dataframes in parallel\n",
    "# requires pip install dask[complete] and fastparquet  and python-snappy\n",
    "import dask.dataframe as dd\n",
    "\n",
    "# this is for environmental variables for secrets (needs python-dotenv)\n",
    "# You can copy the  .env.example file and rename it to .env (one directory  up from the notebooks)\n",
    "# \n",
    "%load_ext dotenv\n",
    "# Load environment variables from the .env file 1 directory up\n",
    "%dotenv -v\n",
    "\n",
    "# This should print 2.1.0\n",
    "azure.storage.blob.__version__"
   ]
  },
  {
   "cell_type": "code",
   "execution_count": null,
   "metadata": {},
   "outputs": [],
   "source": [
    "# read the environment variable from the  .env file\n",
    "sas_token = os.environ['AZURE_BLOB_SAS_TOKEN']"
   ]
  },
  {
   "cell_type": "code",
   "execution_count": null,
   "metadata": {},
   "outputs": [],
   "source": [
    "# List the blobs inside the container\n",
    "print(\"\\nList blobs in the container\")\n",
    "generator = blob_service.list_blobs('chia-yun-results')\n",
    "for blob in generator:\n",
    "    print(\"\\t Blob name: \" + blob.name)"
   ]
  },
  {
   "cell_type": "code",
   "execution_count": null,
   "metadata": {},
   "outputs": [],
   "source": [
    "df = dd.read_parquet(f'abfs://chia-yun-results/waal_201610.parquet', \n",
    "                     storage_options={'account_name': 'rwsais', 'sas_token': sas_token})\n",
    "df = df.compute()"
   ]
  },
  {
   "cell_type": "markdown",
   "metadata": {},
   "source": [
    "# Statement 1: ships have less cargo capacity"
   ]
  },
  {
   "cell_type": "markdown",
   "metadata": {},
   "source": [
    "### The relationship between ship draught and water level"
   ]
  },
  {
   "cell_type": "markdown",
   "metadata": {},
   "source": [
    "Import 2016 water level data and ship draught data"
   ]
  },
  {
   "cell_type": "code",
   "execution_count": null,
   "metadata": {},
   "outputs": [],
   "source": [
    "wl16 = pd.read_csv('Water_level\\wl_sep_lobith_2016.csv',  \n",
    "                   parse_dates=[['OBSERVATION DATE', 'DETECTION TIME']],\n",
    "                   index_col=[0],\n",
    "                   dayfirst=True)\n",
    "wl16.rename(columns={'Unnamed: 0':'no', 'NUMERIC VALUE':'waterlevel2016'}, inplace=True)\n",
    "wl16.drop(columns='no',inplace=True)\n",
    "#wl16 = wl16.loc['2016-12-01 00:00:00':'2016-12-31 23:55:00']\n",
    "wl16"
   ]
  },
  {
   "cell_type": "code",
   "execution_count": null,
   "metadata": {},
   "outputs": [],
   "source": [
    "fr16 = pd.read_csv('Water_level\\lobith_flow_rate_2016.csv',  \n",
    "                   sep = ';', decimal=',', \n",
    "                   parse_dates=[['OBSERVATION DATE', 'DETECTION TIME']], \n",
    "                   dayfirst=True, encoding='latin-1', index_col=[0])\n",
    "fr16.dropna(axis=1, how='all', inplace=True)\n",
    "fr16.rename(columns={'NUMERIC VALUE':'flow_rate_2016'}, inplace=True)\n",
    "#fr16 = fr16.loc['2016-12-01 00:00:00':'2016-12-31 23:55:00']\n",
    "fr16 = fr16[['flow_rate_2016']]\n",
    "fr16 = fr16[fr16['flow_rate_2016'] < 100000]\n",
    "fr16"
   ]
  },
  {
   "cell_type": "code",
   "execution_count": null,
   "metadata": {},
   "outputs": [],
   "source": [
    "#df = df[df['draughtInland']<10]\n",
    "df['draughtMarine'].max()"
   ]
  },
  {
   "cell_type": "code",
   "execution_count": null,
   "metadata": {},
   "outputs": [],
   "source": [
    "# Drop rows with no draught data and duplicates\n",
    "draught = df.dropna(subset=['draughtInland']).compute()\n",
    "draught = draught.drop_duplicates(subset=['mmsi', 'width', 'length', 'draughtInland'])\n",
    "draught['t'] = pd.to_datetime(draught['timestamplast'], format='%Y-%m-%d %H:%M:%S').dt.tz_localize(None)\n",
    "draught = draught.set_index('t')\n",
    "draught = draught.draughtInland\n",
    "\n",
    "# Group draught values into average by every 10 mins (minimum time gap of water level data)\n",
    "draught = draught.groupby(pd.Grouper(freq='10min')).mean()\n",
    "\n",
    "# Join water level and draught data\n",
    "df = pd.concat([draught, wl16], axis=1)\n",
    "df"
   ]
  },
  {
   "cell_type": "code",
   "execution_count": null,
   "metadata": {},
   "outputs": [],
   "source": [
    "# Create figure with secondary y-axis\n",
    "fig = make_subplots(specs=[[{\"secondary_y\": True}]])\n",
    "'''connectgaps=True'''\n",
    "# Add traces\n",
    "fig.add_trace(\n",
    "    go.Scatter(x=df.index, y=df.draughtInland, name=\"Draught\",mode='markers'),\n",
    "    secondary_y=False,\n",
    ")\n",
    "\n",
    "fig.add_trace(\n",
    "    go.Scatter(x=df.index, y=df['NUMERIC VALUE'], name=\"Water level\"),\n",
    "    secondary_y=True,\n",
    ")\n",
    "\n",
    "# Add figure title\n",
    "fig.update_layout(\n",
    "    title_text=\"Mean draught compare to water level observation\"\n",
    ")\n",
    "\n",
    "# Set x-axis title\n",
    "fig.update_xaxes(title_text=\"time\")\n",
    "\n",
    "# Set y-axes titles\n",
    "fig.update_yaxes(title_text=\"<b>Draught</b> (m)\", secondary_y=False)\n",
    "fig.update_yaxes(title_text=\"<b>Water level</b> (N.A.P. cm)\", secondary_y=True)\n",
    "\n",
    "fig.show()"
   ]
  },
  {
   "cell_type": "markdown",
   "metadata": {},
   "source": [
    "Correlation of water level and draught in 2016"
   ]
  },
  {
   "cell_type": "code",
   "execution_count": null,
   "metadata": {},
   "outputs": [],
   "source": [
    "# Drop no. column\n",
    "df.drop(columns='no',inplace=True)\n",
    "df.corr(method='pearson')"
   ]
  },
  {
   "cell_type": "markdown",
   "metadata": {},
   "source": [
    "Import 2017 water level data and ship draught data"
   ]
  },
  {
   "cell_type": "code",
   "execution_count": null,
   "metadata": {},
   "outputs": [],
   "source": [
    "wl17 = pd.read_csv('Water_level\\wl_sep_lobith_2017.csv',  \n",
    "                   parse_dates=[['OBSERVATION DATE', 'DETECTION TIME']],\n",
    "                   index_col=[0],\n",
    "                   dayfirst=True)\n",
    "wl17.rename(columns={'Unnamed: 0':'no','NUMERIC VALUE':'waterlevel2017'}, inplace=True)\n",
    "wl17.drop(columns='no',inplace=True)\n",
    "#wl17 = wl17.loc['2017-12-01 00:00:00':'2017-12-31 23:55:00']\n",
    "wl17"
   ]
  },
  {
   "cell_type": "code",
   "execution_count": null,
   "metadata": {},
   "outputs": [],
   "source": [
    "fr17 = pd.read_csv('Water_level\\lobith_flow_rate_2017.csv',  \n",
    "                   sep = ';', decimal=',', \n",
    "                   parse_dates=[['OBSERVATION DATE', 'DETECTION TIME']], \n",
    "                   dayfirst=True, encoding='latin-1', index_col=[0])\n",
    "fr17.dropna(axis=1, how='all', inplace=True)\n",
    "fr17.rename(columns={'NUMERIC VALUE':'flow_rate_2017'}, inplace=True)\n",
    "#fr17 = fr17.loc['2017-12-01 00:00:00':'2017-12-31 23:55:00']\n",
    "fr17 = fr17[['flow_rate_2017']]\n",
    "fr17 = fr17[fr17['flow_rate_2017'] < 100000]\n",
    "fr17"
   ]
  },
  {
   "cell_type": "code",
   "execution_count": null,
   "metadata": {},
   "outputs": [],
   "source": [
    "# Drop rows with no draught data or duplicates\n",
    "draught = df.dropna(subset=['draughtInland']).compute()\n",
    "draught = draught.drop_duplicates(subset=['mmsi', 'width', 'length'])\n",
    "draught['t'] = pd.to_datetime(draught['timestamplast'], format='%Y-%m-%d %H:%M:%S').dt.tz_localize(None)\n",
    "draught = draught.set_index('t')\n",
    "draught = draught.draughtInland\n",
    "\n",
    "# Group draught values into average by every 10 mins (minimum time gap of water level data)\n",
    "draught = draught.groupby(pd.Grouper(freq='10min')).mean()\n",
    "\n",
    "# Join water level and draught data\n",
    "df = pd.concat([draught, wl17], axis=1)"
   ]
  },
  {
   "cell_type": "code",
   "execution_count": null,
   "metadata": {},
   "outputs": [],
   "source": [
    "# Create figure with secondary y-axis\n",
    "fig = make_subplots(specs=[[{\"secondary_y\": True}]])\n",
    "\n",
    "# Add traces\n",
    "fig.add_trace(\n",
    "    go.Scatter(x=df.index, y=df.draughtInland, name=\"Draught\"),\n",
    "    secondary_y=False,\n",
    ")\n",
    "\n",
    "fig.add_trace(\n",
    "    go.Scatter(x=df.index, y=df['NUMERIC VALUE'], name=\"Water level\"),\n",
    "    secondary_y=True,\n",
    ")\n",
    "\n",
    "# Add figure title\n",
    "fig.update_layout(\n",
    "    title_text=\"Mean draught compare to water level observation\"\n",
    ")\n",
    "\n",
    "# Set x-axis title\n",
    "fig.update_xaxes(title_text=\"time\")\n",
    "\n",
    "# Set y-axes titles\n",
    "fig.update_yaxes(title_text=\"<b>Draught</b> (meters)\", secondary_y=False)\n",
    "fig.update_yaxes(title_text=\"<b>Water level</b> (N.A.P. meters)\", secondary_y=True)\n",
    "\n",
    "fig.show()"
   ]
  },
  {
   "cell_type": "markdown",
   "metadata": {},
   "source": [
    "Correlation of water level and draught in 2017"
   ]
  },
  {
   "cell_type": "code",
   "execution_count": null,
   "metadata": {},
   "outputs": [],
   "source": [
    "# Drop no. column\n",
    "df.drop(columns='no',inplace=True)\n",
    "df.corr(method='pearson')"
   ]
  },
  {
   "cell_type": "markdown",
   "metadata": {},
   "source": [
    "Plot water level together"
   ]
  },
  {
   "cell_type": "code",
   "execution_count": null,
   "metadata": {},
   "outputs": [],
   "source": [
    "# First remove year from datetime\n",
    "wl16.index = wl16.index.strftime('%m-%d %H:%M')\n",
    "wl16"
   ]
  },
  {
   "cell_type": "code",
   "execution_count": null,
   "metadata": {},
   "outputs": [],
   "source": [
    "wl17.index = wl17.index.strftime('%m-%d %H:%M')\n",
    "wl17"
   ]
  },
  {
   "cell_type": "code",
   "execution_count": null,
   "metadata": {},
   "outputs": [],
   "source": [
    "# Concat two dataframe\n",
    "wl = pd.merge(wl16, wl17, left_index=True, right_index=True)\n",
    "wl"
   ]
  },
  {
   "cell_type": "code",
   "execution_count": null,
   "metadata": {},
   "outputs": [],
   "source": [
    "fig = go.Figure()\n",
    "# Create and style traces\n",
    "fig.add_trace(go.Scatter(x=wl.index, y=wl.waterlevel2016, name='2016'))\n",
    "fig.add_trace(go.Scatter(x=wl.index, y=wl.waterlevel2017, name='2017'))\n",
    "fig.update_xaxes(tickmode='auto',nticks=24)\n",
    "fig.update_layout(title='Water level at Lobith during 2016 and 2017',\n",
    "                   xaxis_title='Observation time',\n",
    "                   yaxis_title='Water level (N.A.P. cm)',\n",
    "                   width=1000, height=500)\n",
    "#fig.write_image('lobith_water_level_1617.png')\n",
    "#fig.write_html('lobith_water_level_1617.html')\n",
    "fig.show()"
   ]
  },
  {
   "cell_type": "markdown",
   "metadata": {},
   "source": [
    "Plot flow rate"
   ]
  },
  {
   "cell_type": "code",
   "execution_count": null,
   "metadata": {},
   "outputs": [],
   "source": [
    "# First remove year from datetime\n",
    "fr16.index = fr16.index.strftime('%m-%d %H:%M')"
   ]
  },
  {
   "cell_type": "code",
   "execution_count": null,
   "metadata": {},
   "outputs": [],
   "source": [
    "fr17.index = fr17.index.strftime('%m-%d %H:%M')"
   ]
  },
  {
   "cell_type": "code",
   "execution_count": null,
   "metadata": {},
   "outputs": [],
   "source": [
    "# Concat two dataframe\n",
    "fr = pd.concat([fr16, fr17], axis=1, sort=True)\n",
    "fr"
   ]
  },
  {
   "cell_type": "code",
   "execution_count": null,
   "metadata": {},
   "outputs": [],
   "source": [
    "fig = go.Figure()\n",
    "# Create and style traces\n",
    "fig.add_trace(go.Scatter(x=fr.index, y=fr.flow_rate_2016, name='2016'))\n",
    "fig.add_trace(go.Scatter(x=fr.index, y=fr.flow_rate_2017, name='2017'))\n",
    "fig.update_xaxes(tickmode='auto',nticks=24)\n",
    "fig.update_layout(title='Flow rate at Lobith in 2016 and 2017',\n",
    "                   xaxis_title='Observation time',\n",
    "                   yaxis_title='Flow rate (m3/s)',\n",
    "                   width=1000, height=500)\n",
    "#fig.write_html('lobith_flow_rate_1617.html')\n",
    "fig.show()"
   ]
  },
  {
   "cell_type": "markdown",
   "metadata": {},
   "source": [
    "Plot draught"
   ]
  },
  {
   "cell_type": "code",
   "execution_count": null,
   "metadata": {},
   "outputs": [],
   "source": [
    "def draught_cat(df):\n",
    "    if df['draughtInland'] < 6:\n",
    "        return 'd<6'\n",
    "    if (df['draughtInland'] >= 6) & (df['draughtInland'] < 8):\n",
    "        return '6<=d<8'\n",
    "    if (df['draughtInland'] >= 8) & (df['draughtInland'] < 10):\n",
    "        return '8<=d<10'\n",
    "    if (df['draughtInland'] >= 10) & (df['draughtInland'] < 13):\n",
    "        return '10<=d<13'\n",
    "    if df['draughtInland'] >= 13:\n",
    "        return 'd>=13'"
   ]
  },
  {
   "cell_type": "code",
   "execution_count": null,
   "metadata": {},
   "outputs": [],
   "source": [
    "df = df.compute()\n",
    "draught = df.dropna(subset=['draughtInland'])\n",
    "draught.drop_duplicates(subset=['new_id','traj_id','draughtInland','mmsi','vesseltype','width','length'],\n",
    "                        inplace=True)\n",
    "draught['class'] = draught.apply(draught_cat,axis=1)\n",
    "draught['date'] = [d.date() for d in draught['t']]\n",
    "#draught.head(10)"
   ]
  },
  {
   "cell_type": "code",
   "execution_count": null,
   "metadata": {},
   "outputs": [],
   "source": [
    "draught = draught[draught['class'] != 'd<6']"
   ]
  },
  {
   "cell_type": "code",
   "execution_count": null,
   "metadata": {},
   "outputs": [],
   "source": [
    "fig = px.histogram(draught, x='date', color='class', nbins=20,\n",
    "                   labels={'date':'Date', 'class':'Draught category'},\n",
    "                   range_y=[0,27],\n",
    "                   category_orders={'class':['6<=d<8','8<=d<10','10<=d<13','d>=13']},\n",
    "                   template='simple_white',\n",
    "                   title='Number of ships that had draught >= 6 in 2016-12'\n",
    "                   )\n",
    "\n",
    "fig.show()\n",
    "#fig.write_html('draught_class_hist_201612.html')"
   ]
  },
  {
   "cell_type": "code",
   "execution_count": null,
   "metadata": {},
   "outputs": [],
   "source": [
    "fig = go.Figure()\n",
    "# Create and style traces\n",
    "fig.add_trace(go.Scatter(x=draught.t, y=draught.draughtInland, name='2016'))\n",
    "fig.add_trace(go.Scatter(x=d17.index, y=d17.draughtInland, name='2017'))\n",
    "\n",
    "fig.update_xaxes(range= ['12-01 00:00','12:31 23:50'],tickmode='auto',nticks=24)\n",
    "fig.update_layout(title='Mean draught of every 10 minutes in 2016 and 2017',\n",
    "                   xaxis_title='Time',\n",
    "                   yaxis_title='Draught (meters)',\n",
    "                   width=1000, height=500)\n",
    "#fig.write_html(\"Mean draught 1617.html\")\n",
    "fig.show()"
   ]
  },
  {
   "cell_type": "markdown",
   "metadata": {},
   "source": [
    "# Statement 2: the waterway is busier than usual "
   ]
  },
  {
   "cell_type": "markdown",
   "metadata": {},
   "source": [
    "Assign id number to each trajectory by using pandas functions"
   ]
  },
  {
   "cell_type": "code",
   "execution_count": null,
   "metadata": {},
   "outputs": [],
   "source": [
    "# Indexing datetime\n",
    "#df['t'] = pd.to_datetime(df['timestamplast'], format='%Y-%m-%d %H:%M:%S').dt.tz_localize(None)\n",
    "#df = df.reset_index(drop=False)\n",
    "#df"
   ]
  },
  {
   "cell_type": "code",
   "execution_count": null,
   "metadata": {},
   "outputs": [],
   "source": [
    "\"\"\"\n",
    "Method No.1\n",
    "Time gap 10 minutes\n",
    "\"\"\"\n",
    "s = df.sort_values(['new_id','t']).groupby('new_id').t.diff() \\\n",
    "      .gt(pd.Timedelta(seconds=600)).cumsum().sort_index()\n",
    "df['traj_id'] = df.groupby(['new_id', s], sort=False).ngroup().add(1)"
   ]
  },
  {
   "cell_type": "markdown",
   "metadata": {},
   "source": [
    "Divide travel direction"
   ]
  },
  {
   "cell_type": "code",
   "execution_count": null,
   "metadata": {},
   "outputs": [],
   "source": [
    "df = df.compute()\n",
    "g = df.groupby('traj_id')\n",
    "start = g.head(1).sort_values(by='traj_id').reset_index(drop=True).add_prefix('start_')\n",
    "end = g.tail(1).sort_values(by='traj_id').reset_index(drop=True).add_prefix('end_')\n",
    "df = pd.concat([start, end], axis=1)"
   ]
  },
  {
   "cell_type": "code",
   "execution_count": null,
   "metadata": {},
   "outputs": [],
   "source": [
    "def direction(df):\n",
    "    if df['start_longitude'] > df['end_longitude']:\n",
    "        return 'down'\n",
    "    if df['start_longitude'] < df['end_longitude']:\n",
    "        return 'up'\n",
    "    if df['start_longitude'] == df['end_longitude']:\n",
    "        return 'unknown'"
   ]
  },
  {
   "cell_type": "code",
   "execution_count": null,
   "metadata": {},
   "outputs": [],
   "source": [
    "df['dir'] = df.apply(direction, axis=1)\n",
    "up = df[df['dir'] == 'up']\n",
    "down = df[df['dir'] == 'down']\n",
    "up_traj = up['start_traj_id'].tolist()\n",
    "down_traj = down['start_traj_id'].tolist()"
   ]
  },
  {
   "cell_type": "code",
   "execution_count": null,
   "metadata": {},
   "outputs": [],
   "source": [
    "# Reload df\n",
    "df = df.compute()\n",
    "\n",
    "up = df[df['traj_id'].isin(up_traj)]\n",
    "down = df[df['traj_id'].isin(down_traj)]"
   ]
  },
  {
   "cell_type": "code",
   "execution_count": null,
   "metadata": {},
   "outputs": [],
   "source": [
    "down.head()"
   ]
  },
  {
   "cell_type": "markdown",
   "metadata": {},
   "source": [
    "### Number of trips per vessel"
   ]
  },
  {
   "cell_type": "code",
   "execution_count": null,
   "metadata": {},
   "outputs": [],
   "source": [
    "df['traj_id'].nunique()"
   ]
  },
  {
   "cell_type": "markdown",
   "metadata": {},
   "source": [
    "Trips going upstream"
   ]
  },
  {
   "cell_type": "code",
   "execution_count": null,
   "metadata": {},
   "outputs": [],
   "source": [
    "# Load upstream dataset\n",
    "df['traj_id'].nunique()"
   ]
  },
  {
   "cell_type": "code",
   "execution_count": null,
   "metadata": {},
   "outputs": [],
   "source": [
    "df[(df['t'] >= '2017-12-15 00:00:00') & (df['t'] <= '2017-12-19 23:59:59')]['traj_id'].nunique()"
   ]
  },
  {
   "cell_type": "markdown",
   "metadata": {},
   "source": [
    "Trips going downstream"
   ]
  },
  {
   "cell_type": "code",
   "execution_count": null,
   "metadata": {},
   "outputs": [],
   "source": [
    "# Load downstream dataset\n",
    "df['traj_id'].nunique()"
   ]
  },
  {
   "cell_type": "code",
   "execution_count": null,
   "metadata": {},
   "outputs": [],
   "source": [
    "df[(df['t'] >= '2017-12-15 00:00:00') & (df['t'] <= '2017-12-19 23:59:59')]['traj_id'].nunique()"
   ]
  },
  {
   "cell_type": "markdown",
   "metadata": {},
   "source": [
    "### Calcuate the average time for a vessel to travel across the study area"
   ]
  },
  {
   "cell_type": "markdown",
   "metadata": {},
   "source": [
    "Select trips started from the bound of study area"
   ]
  },
  {
   "cell_type": "code",
   "execution_count": null,
   "metadata": {},
   "outputs": [],
   "source": [
    "start = df.groupby('traj_id').head(1)\n",
    "start = start[start['longitude'] > 6.14]\n",
    "end = df.groupby('traj_id').tail(1)\n",
    "end = end[end['longitude'] < 5.75]"
   ]
  },
  {
   "cell_type": "markdown",
   "metadata": {},
   "source": [
    "Match west side points with east side points"
   ]
  },
  {
   "cell_type": "code",
   "execution_count": null,
   "metadata": {},
   "outputs": [],
   "source": [
    "df = pd.merge(left=start, right=end, \n",
    "              left_on='traj_id', right_on='traj_id', \n",
    "              suffixes=('_start', '_end'))\n",
    "df.head()"
   ]
  },
  {
   "cell_type": "markdown",
   "metadata": {},
   "source": [
    "Calculate duration"
   ]
  },
  {
   "cell_type": "code",
   "execution_count": null,
   "metadata": {},
   "outputs": [],
   "source": [
    "# Select a small time window\n",
    "down = df[(df['t_start'] >= '2017-12-15 00:00:00') & (df['t_start'] <= '2017-12-19 23:59:59')]\n",
    "(down['t_end'] - down['t_start']).mean()\n",
    "\n",
    "# 2016-10-11 to 15 average travel time: 2:04:49.8\n",
    "# 2016-10-01 to 31 average travel time: 2:03:48.6\n",
    "\n",
    "# 2016-12-01 to 05 average travel time: 2:00:00.3\n",
    "# 2016-12-15 to 19 average travel time: 2:03:27.1\n",
    "# 2016-12-01 to 31 average travel time: 2:01:51.9\n",
    "\n",
    "# 2017-10-11 to 15 average travel time: 1:56:23.4\n",
    "# 2017-10-01 to 31 average travel time: 1:59:20.1\n",
    "\n",
    "# 2017-12-01 to 05 average travel time: 1:49:33.8\n",
    "# 2017-12-15 to 19 average travel time: 1:44:43.4\n",
    "# 2017-12-01 to 31 average travel time: 1:48:23.3"
   ]
  },
  {
   "cell_type": "code",
   "execution_count": null,
   "metadata": {},
   "outputs": [],
   "source": [
    "# No. of trips (down)\n",
    "down['traj_id'].nunique()\n",
    "\n",
    "# 2016-10-11 to 15: 652\n",
    "# 2016-10-01 to 31: 3683\n",
    "\n",
    "# 2016-12-01 to 05: 525\n",
    "# 2016-12-15 to 19: 614\n",
    "# 2016-12-01 to 31: 2219\n",
    "\n",
    "# 2017-10-11 to 15: 462\n",
    "# 2017-10-01 to 31: 2938\n",
    "\n",
    "# 2017-12-01 to 05: 442\n",
    "# 2017-12-15 to 19: 413\n",
    "# 2017-12-01 to 31: 2492"
   ]
  },
  {
   "cell_type": "code",
   "execution_count": null,
   "metadata": {},
   "outputs": [],
   "source": [
    "# Select a small time window\n",
    "up = df[(df['t_start'] >= '2017-12-15 00:00:00') & (df['t_start'] <= '2017-12-19 23:59:59')]\n",
    "(up['t_end'] - up['t_start']).mean()\n",
    "\n",
    "# 2016-10-11 to 15 average travel time: 3:17:58.0\n",
    "# 2016-10-01 to 31 average travel time: 3:20:46.8\n",
    "\n",
    "# 2016-12-01 to 05 average travel time: 3:15:36.6\n",
    "# 2016-12-15 to 19 average travel time: 3:20:14.8\n",
    "# 2016-12-01 to 31 average travel time: 3:17:42.1\n",
    "\n",
    "# 2017-10-11 to 15 average travel time: 3:18:31.4\n",
    "# 2017-10-01 to 31 average travel time: 3:18:26.1\n",
    "\n",
    "# 2017-12-01 to 05 average travel time: 3:25:29.2\n",
    "# 2017-12-15 to 19 average travel time: 3:37:10.7\n",
    "# 2017-12-01 to 31 average travel time: 3:28:42.3"
   ]
  },
  {
   "cell_type": "code",
   "execution_count": null,
   "metadata": {},
   "outputs": [],
   "source": [
    "# No. of trips (up)\n",
    "df['traj_id'].nunique()\n",
    "\n",
    "# 2016-10-11 to 15: 537\n",
    "# 2016-10-01 to 31: 2959\n",
    "\n",
    "# 2016-12-01 to 05: 401\n",
    "# 2016-12-15 to 19: 429\n",
    "# 2016-12-01 to 31: 1690\n",
    "\n",
    "# 2017-10-11 to 15: 389\n",
    "# 2017-10-01 to 31: 2323\n",
    "\n",
    "# 2017-12-01 to 05: 348\n",
    "# 2017-12-15 to 19: 307\n",
    "# 2017-12-01 to 31: 1834"
   ]
  },
  {
   "cell_type": "code",
   "execution_count": null,
   "metadata": {},
   "outputs": [],
   "source": [
    "(df['t_end'] - df['t_start']).mean()"
   ]
  },
  {
   "cell_type": "markdown",
   "metadata": {},
   "source": [
    "### Count uniquie ship numbers in every hour"
   ]
  },
  {
   "cell_type": "code",
   "execution_count": null,
   "metadata": {},
   "outputs": [],
   "source": [
    "# new_id numbers within the Waal 2016-12\n",
    "mmsi16 = df.groupby(pd.Grouper(key='t',freq='1h')).nunique()\n",
    "mmsi16 = mmsi16[['new_id']]\n",
    "mmsi16"
   ]
  },
  {
   "cell_type": "code",
   "execution_count": null,
   "metadata": {},
   "outputs": [],
   "source": [
    "# new_id numbers within the Waal 2017-12\n",
    "mmsi17 = df.groupby(pd.Grouper(key='t',freq='1h')).nunique()\n",
    "mmsi17 = mmsi17[['new_id']]\n",
    "mmsi17"
   ]
  },
  {
   "cell_type": "code",
   "execution_count": null,
   "metadata": {},
   "outputs": [],
   "source": [
    "mmsi16.index = mmsi16.index.strftime('%m-%d %H:%M')\n",
    "mmsi16.rename(columns={'new_id': 'ships2016'},inplace=True)"
   ]
  },
  {
   "cell_type": "code",
   "execution_count": null,
   "metadata": {},
   "outputs": [],
   "source": [
    "mmsi17.index = mmsi17.index.strftime('%m-%d %H:%M')\n",
    "mmsi17.rename(columns={'new_id': 'ships2017'},inplace=True)"
   ]
  },
  {
   "cell_type": "code",
   "execution_count": null,
   "metadata": {},
   "outputs": [],
   "source": [
    "# Concat 2016 and 2017 table\n",
    "nship = pd.concat([mmsi16, mmsi17], axis=1, sort=False)\n",
    "nship"
   ]
  },
  {
   "cell_type": "code",
   "execution_count": null,
   "metadata": {},
   "outputs": [],
   "source": [
    "fig = go.Figure()\n",
    "\n",
    "fig.add_trace(go.Scatter(\n",
    "    x=nship.index, y=nship.ships2016,\n",
    "    name='2016'))\n",
    "fig.add_trace(go.Scatter(\n",
    "    x=nship.index, y=nship.ships2017,\n",
    "    name='2017'))\n",
    "\n",
    "fig.update_layout(\n",
    "    title_text='Number of unique ships in every hour<br>2016 and 2017 October',\n",
    "    xaxis_title_text='Time',\n",
    "    xaxis_nticks=16,\n",
    "    yaxis_title_text='Number of ships',\n",
    "    width=1000, height=500)\n",
    "\n",
    "fig.show()\n",
    "#fig.write_html(\"unique_ships_per_hour_oct.html\")"
   ]
  },
  {
   "cell_type": "markdown",
   "metadata": {},
   "source": [
    "### Calculate the trip number per unique vessel (not included in thesis)"
   ]
  },
  {
   "cell_type": "code",
   "execution_count": null,
   "metadata": {},
   "outputs": [],
   "source": [
    "trip_no = df.groupby(pd.Grouper(key='mmsi')).nunique()\n",
    "trip_no = trip_no[['traj_id']]\n",
    "trip_no"
   ]
  },
  {
   "cell_type": "markdown",
   "metadata": {},
   "source": [
    "After looking into a specific ship in detail, we found out that not every AIS transmitter sent signal in the right time interval."
   ]
  },
  {
   "cell_type": "code",
   "execution_count": null,
   "metadata": {},
   "outputs": [],
   "source": [
    "trip_no[trip_no['traj_id']>40]"
   ]
  },
  {
   "cell_type": "code",
   "execution_count": null,
   "metadata": {},
   "outputs": [],
   "source": [
    "# Plot \n",
    "fig = px.violin(trip_no, y='traj_id',box=True,points='all')\n",
    "fig.update_yaxes(title_text=\"Number of trips\")\n",
    "fig.show()\n",
    "#fig.write_html('trips_per_ship2016.html')"
   ]
  },
  {
   "cell_type": "code",
   "execution_count": null,
   "metadata": {},
   "outputs": [],
   "source": [
    "# Plot \n",
    "fig = px.violin(trip_no, y='traj_id',box=True,points='all')\n",
    "fig.update_yaxes(title_text=\"Number of trips\")\n",
    "#fig.show()\n",
    "#fig.write_html('trips_per_ship2017.html')"
   ]
  },
  {
   "cell_type": "markdown",
   "metadata": {},
   "source": [
    "# Statement 3: ships reduce speed to minimize the dynamic draft "
   ]
  },
  {
   "cell_type": "markdown",
   "metadata": {},
   "source": [
    "### Calculate the average speed of up and down stream"
   ]
  },
  {
   "cell_type": "markdown",
   "metadata": {},
   "source": [
    "Down stream (west)"
   ]
  },
  {
   "cell_type": "code",
   "execution_count": null,
   "metadata": {},
   "outputs": [],
   "source": [
    "df['sog'].mean().compute()"
   ]
  },
  {
   "cell_type": "markdown",
   "metadata": {},
   "source": [
    "Up stream (east)"
   ]
  },
  {
   "cell_type": "code",
   "execution_count": null,
   "metadata": {},
   "outputs": [],
   "source": [
    "df['sog'].mean().compute()"
   ]
  },
  {
   "cell_type": "markdown",
   "metadata": {},
   "source": [
    "### Identify and visualize vessels' speed change"
   ]
  },
  {
   "cell_type": "markdown",
   "metadata": {},
   "source": [
    "Use heatmap to plot pixel based SOG View.<br>\n",
    "Select a small observation area to have a closer look of speed change temporal pattern."
   ]
  },
  {
   "cell_type": "code",
   "execution_count": null,
   "metadata": {},
   "outputs": [],
   "source": [
    "# Outside Vluchthaven Tolkamer\n",
    "polygon = Polygon([[6.087455749511719, 51.858577350209735], \n",
    "                   [6.082735061645508, 51.86101571797086], \n",
    "                   [6.073079109191894, 51.85783521205157], \n",
    "                   [6.077327728271484, 51.85380624845141], \n",
    "                   [6.087455749511719, 51.858577350209735]])\n",
    "# Outside Erlecom\n",
    "polygon = Polygon([[5.958538055419922, 51.851287963007],\n",
    "                   [5.974330902099609, 51.851287963007],\n",
    "                   [5.974330902099609, 51.857994242687404],\n",
    "                   [5.958538055419922, 51.857994242687404],\n",
    "                   [5.958538055419922, 51.851287963007]])\n",
    "# Groenlanden area\n",
    "polygon = Polygon([[5.918025970458984, 51.870211415877094], \n",
    "                   [5.930900573730469, 51.870211415877094], \n",
    "                   [5.930900573730469, 51.87749773748344], \n",
    "                   [5.918025970458984, 51.87749773748344], \n",
    "                   [5.918025970458984, 51.870211415877094]])\n",
    "# Waalbrug area\n",
    "polygon = Polygon([[5.873394012451172, 51.855370165317645], \n",
    "                   [5.881590843200683, 51.852931491586446], \n",
    "                   [5.8864402770996085, 51.85749064374565], \n",
    "                   [5.878243446350098, 51.859823054599026], \n",
    "                   [5.873394012451172, 51.855370165317645]])\n",
    "# Under De Oversteek bridge\n",
    "polygon = Polygon([[5.841464996337891,51.86128074998202],\n",
    "                   [5.837602615356445,51.857437633002846],\n",
    "                   [5.844855308532715,51.854336395851554],\n",
    "                   [5.848631858825684,51.857093061652186],\n",
    "                   [5.841464996337891,51.86128074998202]])\n",
    "# Ewijkse Plaat area\n",
    "polygon = Polygon([[5.759153366088867,51.88417362103146],\n",
    "                   [5.756063461303711,51.879352249020855],\n",
    "                   [5.763959884643555,51.87786864591045],\n",
    "                   [5.766363143920898,51.882690177025324],\n",
    "                   [5.759153366088867,51.88417362103146]])"
   ]
  },
  {
   "cell_type": "code",
   "execution_count": null,
   "metadata": {},
   "outputs": [],
   "source": [
    "# Turn dask type to dataframe type\n",
    "df = df.compute()\n",
    "\n",
    "# GeoDataFrame\n",
    "gdf = GeoDataFrame(df, crs = 'EPSG:4326', geometry = gpd.points_from_xy(df.longitude, df.latitude))\n",
    "gdf.head() "
   ]
  },
  {
   "cell_type": "code",
   "execution_count": null,
   "metadata": {},
   "outputs": [],
   "source": [
    "# Define boundary polygon\n",
    "# Ewijkse Plaat area\n",
    "polygon = Polygon([[5.759153366088867,51.88417362103146],\n",
    "                   [5.756063461303711,51.879352249020855],\n",
    "                   [5.763959884643555,51.87786864591045],\n",
    "                   [5.766363143920898,51.882690177025324],\n",
    "                   [5.759153366088867,51.88417362103146]])\n",
    "\n",
    "# Clip the points inside polygon\n",
    "#gdf.reset_index(inplace=True)\n",
    "df = gpd.clip(gdf,polygon)\n",
    "df.set_index('t', inplace=True)\n",
    "\n",
    "# Remove abnormal value if needed\n",
    "df = df[df['sog'] <= 35]"
   ]
  },
  {
   "cell_type": "code",
   "execution_count": null,
   "metadata": {},
   "outputs": [],
   "source": [
    "df['sog'].mean()"
   ]
  },
  {
   "cell_type": "markdown",
   "metadata": {},
   "source": [
    "Heatmaps for week day pattern"
   ]
  },
  {
   "cell_type": "code",
   "execution_count": null,
   "metadata": {},
   "outputs": [],
   "source": [
    "# Group mean sog every 30 mins\n",
    "df = df[['sog']]\n",
    "df = df.groupby(pd.Grouper(freq='30min')).mean()\n",
    "df['sog'] = df['sog'].round(1)\n",
    "df['time'] = [d.time() for d in df.index]\n",
    "df.head()"
   ]
  },
  {
   "cell_type": "code",
   "execution_count": null,
   "metadata": {},
   "outputs": [],
   "source": [
    "fig = go.Figure(data=go.Heatmap(\n",
    "        z=df.sog,\n",
    "        x=df.time,\n",
    "        y=df.index.weekday,\n",
    "        colorscale='rdylgn',\n",
    "        zmax=15, zmin=0))\n",
    "\n",
    "#fig.layout.template = 'simple_white'\n",
    "fig.update_layout(\n",
    "    title='Upstream mean speed by half hour of every weekday 2016-12<br>Groenlanden area',\n",
    "    xaxis_nticks=24, plot_bgcolor='white',\n",
    "    xaxis_showgrid=False, yaxis_showgrid=False)\n",
    "fig.show()"
   ]
  },
  {
   "cell_type": "markdown",
   "metadata": {},
   "source": [
    "Heatmaps for low water levels pattern"
   ]
  },
  {
   "cell_type": "code",
   "execution_count": null,
   "metadata": {},
   "outputs": [],
   "source": [
    "# Group mean sog every 30 mins\n",
    "df = df[['sog']]\n",
    "df = df.groupby(pd.Grouper(freq='30min')).mean()\n",
    "df['sog'] = df['sog'].round(2)\n",
    "df.reset_index(inplace=True)\n",
    "df['date'] = [d.date() for d in df['t']]\n",
    "df['time'] = [d.time() for d in df['t']]\n",
    "\n",
    "df.head()"
   ]
  },
  {
   "cell_type": "code",
   "execution_count": null,
   "metadata": {
    "scrolled": true
   },
   "outputs": [],
   "source": [
    "# Pixel \n",
    "fig = go.Figure(data=go.Heatmap(z=df['sog'],\n",
    "                                x=df['time'],\n",
    "                                y=df['date'],\n",
    "                                zmin=0, zmax=15,\n",
    "                                colorscale='rdylgn'))\n",
    "\n",
    "fig.update_xaxes()\n",
    "fig.update_layout(\n",
    "    title='Downstream mean speed by half hour in 2016-12<br>Ewijkse Plaat area',\n",
    "    xaxis_nticks=24, yaxis_nticks=15,\n",
    "    plot_bgcolor='white',\n",
    "    #xaxis_showgrid=False, yaxis_showgrid=False, \n",
    "    width=600, height=500)\n",
    "fig.show()\n",
    "#fig.write_html('SOG_everyday_heatmap/SOG down Ewijkse 201612.html')"
   ]
  },
  {
   "cell_type": "markdown",
   "metadata": {},
   "source": [
    "# Statement 4: smaller vessels shift operation area to the Rhine "
   ]
  },
  {
   "cell_type": "markdown",
   "metadata": {},
   "source": [
    "### Count ships in each size group"
   ]
  },
  {
   "cell_type": "code",
   "execution_count": null,
   "metadata": {},
   "outputs": [],
   "source": [
    "gdf = GeoDataFrame(df, crs = 'EPSG:4326', geometry = gpd.points_from_xy(df.longitude, df.latitude))\n",
    "gdf.info() # GeoDataFrame"
   ]
  },
  {
   "cell_type": "code",
   "execution_count": null,
   "metadata": {},
   "outputs": [],
   "source": [
    "# The Rhine\n",
    "polygon = gpd.read_file('rhine.geojson')\n",
    "\n",
    "# Clip the points inside polygon\n",
    "df = gpd.clip(gdf,polygon)\n",
    "df.reset_index(drop=True, inplace=True)\n",
    "df.head()"
   ]
  },
  {
   "cell_type": "code",
   "execution_count": null,
   "metadata": {},
   "outputs": [],
   "source": [
    "# Remove time from timestamp\n",
    "#df['timestamplast'] = pd.to_datetime(df['timestamplast']).dt.date\n",
    "\n",
    "# Drop duplicates\n",
    "df.drop_duplicates(subset=['new_id','traj_id','mmsi','length','width'],\n",
    "                   keep='first',inplace=True)\n",
    "\n",
    "# Dropna\n",
    "df.dropna(subset=['length','width'], inplace=True)\n",
    "\n",
    "# Reset index\n",
    "df.reset_index(drop=True, inplace=True)\n",
    "#df.info()"
   ]
  },
  {
   "cell_type": "code",
   "execution_count": null,
   "metadata": {},
   "outputs": [],
   "source": [
    "df['dir'] = 'down'\n",
    "df['year'] = pd.to_datetime(df['timestamplast']).dt.year\n",
    "#df.head()"
   ]
  },
  {
   "cell_type": "code",
   "execution_count": null,
   "metadata": {},
   "outputs": [],
   "source": [
    "#df16u = df\n",
    "#df16d = df\n",
    "#df17u = df\n",
    "#df17d = df\n",
    "df = pd.concat([df16u,df16d,df17u,df17d])\n",
    "df.reset_index(drop=True,inplace=True)\n",
    "df"
   ]
  },
  {
   "cell_type": "code",
   "execution_count": null,
   "metadata": {},
   "outputs": [],
   "source": [
    "fig = px.density_contour(df, x='length', y='width', \n",
    "                         facet_col='dir',\n",
    "                         facet_row='year',\n",
    "                         labels={'dir':'Direction'},\n",
    "                         template='none',\n",
    "                         title='The size of ships around the Rhine<br>December')\n",
    "#fig.update_xaxes(tickmode='array', tickvals=[0,100,200,300,400,500])\n",
    "#fig.update_yaxes(tickmode='array', tickvals=[0,10,20,30,40,50])\n",
    "fig.show()\n",
    "#fig.write_html('size_rhine_dec.html')"
   ]
  },
  {
   "cell_type": "code",
   "execution_count": null,
   "metadata": {},
   "outputs": [],
   "source": [
    "fig = px.density_heatmap(df, x='length', y='width', \n",
    "                         log_x=True, log_y=True,\n",
    "                         facet_col='dir',\n",
    "                         facet_row='year',\n",
    "                         labels={'dir':'Direction'},\n",
    "                         template='none',\n",
    "                         color_continuous_scale='greys',\n",
    "                         width=1200, height=800,\n",
    "                         title='The size of ships around the Rhine at October')\n",
    "fig.show()"
   ]
  },
  {
   "cell_type": "code",
   "execution_count": null,
   "metadata": {},
   "outputs": [],
   "source": [
    "fig.write_html('size_heatmap_rhine_oct_grey.html')"
   ]
  },
  {
   "cell_type": "code",
   "execution_count": null,
   "metadata": {},
   "outputs": [],
   "source": [
    "#df[\"draughtInland\"] = df[\"draughtInland\"].astype(float)\n",
    "fig = px.scatter(df, x='length', y='width',\n",
    "                 facet_col='dir',\n",
    "                 facet_row='year',\n",
    "                 labels={'dir':'Direction'},\n",
    "                 template='none',\n",
    "                 title='The size of ships around the Rhine<br>December')\n",
    "fig.update_xaxes(range=[0, 400])\n",
    "fig.update_yaxes(range=[0, 50])\n",
    "fig.show()"
   ]
  },
  {
   "cell_type": "code",
   "execution_count": null,
   "metadata": {},
   "outputs": [],
   "source": [
    "fig.write_html('size_scatter_rhine_dec.html')"
   ]
  },
  {
   "cell_type": "markdown",
   "metadata": {},
   "source": [
    "# Animation (not included in thesis)"
   ]
  },
  {
   "cell_type": "code",
   "execution_count": null,
   "metadata": {},
   "outputs": [],
   "source": [
    "# The Waal bend at Nijmegen\n",
    "polygon = Polygon([[5.838460922241211, 51.847178878957045],\n",
    "                   [5.889616012573242, 51.847178878957045],\n",
    "                   [5.889616012573242, 51.86451401480079],\n",
    "                   [5.838460922241211, 51.86451401480079],\n",
    "                   [5.838460922241211, 51.847178878957045]])"
   ]
  },
  {
   "cell_type": "code",
   "execution_count": null,
   "metadata": {},
   "outputs": [],
   "source": [
    "# Turn dask type to dataframe type\n",
    "df = df[(df['timestamplast']>='2016-12-16 00:00:00+00:00') & \n",
    "        (df['timestamplast']<='2016-12-16 23:59:59+00:00')]\n",
    "df = df.compute()\n",
    "df['t'] = pd.to_datetime(df['timestamplast'], format='%Y-%m-%d %H:%M:%S').dt.tz_localize(None)\n",
    "\n",
    "# GeoDataFrame\n",
    "gdf = GeoDataFrame(df, crs = 'EPSG:4326', geometry = gpd.points_from_xy(df.longitude, df.latitude))\n",
    "gdf.info() "
   ]
  },
  {
   "cell_type": "code",
   "execution_count": null,
   "metadata": {},
   "outputs": [],
   "source": [
    "# Define boundary polygon\n",
    "# The Waal bend at Nijmegen\n",
    "polygon = Polygon([[5.838460922241211, 51.847178878957045],\n",
    "                   [5.889616012573242, 51.847178878957045],\n",
    "                   [5.889616012573242, 51.86451401480079],\n",
    "                   [5.838460922241211, 51.86451401480079],\n",
    "                   [5.838460922241211, 51.847178878957045]])\n",
    "\n",
    "# Clip the points inside polygon\n",
    "gdf.reset_index(drop=True,inplace=True)\n",
    "df = gpd.clip(gdf,polygon)\n",
    "df.set_index('t', inplace=True)\n",
    "\n",
    "# Remove abnormal value if needed\n",
    "df = df[df['sog'] < 35]\n",
    "df.drop(columns='index',inplace=True)\n",
    "df"
   ]
  },
  {
   "cell_type": "code",
   "execution_count": null,
   "metadata": {},
   "outputs": [],
   "source": [
    "df.set_index('t',inplace=True)"
   ]
  },
  {
   "cell_type": "code",
   "execution_count": null,
   "metadata": {},
   "outputs": [],
   "source": [
    "tiny = df[(df.index>= '2016-12-16T15:40:00')&(df.index<='2016-12-16T15:55:00')]\n",
    "tiny"
   ]
  },
  {
   "cell_type": "code",
   "execution_count": null,
   "metadata": {},
   "outputs": [],
   "source": [
    "# Plotly Express scatter points map\n",
    "fig = px.scatter_mapbox(tiny, lat='latitude', lon='longitude', zoom=13, color='sog',\n",
    "                        color_continuous_scale='plasma',\n",
    "                        title='The river bend at Nijmegen 2016-12-16',\n",
    "                        height=1000,width=1200)\n",
    "\n",
    "fig.update_layout(mapbox_style=\"dark\")\n",
    "fig.show()\n",
    "#fig.write_html('nijmegen_20161216_cover.html')"
   ]
  },
  {
   "cell_type": "code",
   "execution_count": null,
   "metadata": {},
   "outputs": [],
   "source": [
    "df['timestamplast'] = df['timestamplast'].dt.strftime('%Y-%m-%d %H:%M:00')"
   ]
  },
  {
   "cell_type": "code",
   "execution_count": null,
   "metadata": {},
   "outputs": [],
   "source": [
    "tiny = df.loc['2016-12-16 15:15:00':'2016-12-16 16:45:00']"
   ]
  },
  {
   "cell_type": "code",
   "execution_count": null,
   "metadata": {},
   "outputs": [],
   "source": [
    "# Plotly Express scatter points map\n",
    "fig = px.scatter_mapbox(df, lat='latitude', lon='longitude', zoom=13, \n",
    "                        title='The river bend at Nijmegen 2016-12-16',\n",
    "                        animation_frame='timestamplast')\n",
    "fig.show()\n",
    "#fig.write_html('nijmegen_animation_20161216.html')"
   ]
  },
  {
   "cell_type": "code",
   "execution_count": null,
   "metadata": {},
   "outputs": [],
   "source": [
    "# Plotly Express scatter points map\n",
    "fig = px.scatter_mapbox(tiny, lat='latitude', lon='longitude', color='sog',\n",
    "                        color_continuous_scale='plasma', zoom=13, \n",
    "                        range_color=[0,20],\n",
    "                        title='The river bend at Nijmegen 2016-12-16 16:00',\n",
    "                        animation_frame='timestamplast')\n",
    "fig.show()\n"
   ]
  },
  {
   "cell_type": "code",
   "execution_count": null,
   "metadata": {},
   "outputs": [],
   "source": [
    "fig.write_html('nijmegen_animation_sog_20161216-1515.html')"
   ]
  },
  {
   "cell_type": "code",
   "execution_count": null,
   "metadata": {},
   "outputs": [],
   "source": []
  }
 ],
 "metadata": {
  "kernelspec": {
   "display_name": "Python 3",
   "language": "python",
   "name": "python3"
  },
  "language_info": {
   "codemirror_mode": {
    "name": "ipython",
    "version": 3
   },
   "file_extension": ".py",
   "mimetype": "text/x-python",
   "name": "python",
   "nbconvert_exporter": "python",
   "pygments_lexer": "ipython3",
   "version": "3.7.7"
  }
 },
 "nbformat": 4,
 "nbformat_minor": 4
}
